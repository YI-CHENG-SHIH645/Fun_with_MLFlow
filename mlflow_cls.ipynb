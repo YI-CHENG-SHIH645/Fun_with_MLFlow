{
 "cells": [
  {
   "cell_type": "code",
   "execution_count": 10,
   "id": "738a9bff-70d7-46f7-ac54-fbea44b1e446",
   "metadata": {},
   "outputs": [],
   "source": [
    "import os\n",
    "\n",
    "import mlflow.sklearn\n",
    "from sklearn import metrics\n",
    "from sklearn.datasets import load_iris\n",
    "from sklearn.metrics import classification_report, confusion_matrix, accuracy_score, precision_score, roc_curve\n",
    "from sklearn.model_selection import train_test_split\n",
    "from sklearn.preprocessing import StandardScaler\n",
    "from sklearn.tree import DecisionTreeClassifier\n",
    "from sklearn.multiclass import OneVsRestClassifier\n",
    "from sklearn.preprocessing import label_binarize"
   ]
  },
  {
   "cell_type": "code",
   "execution_count": 35,
   "id": "f16c539c-4471-4bf1-b7d4-7a2d9f30bec9",
   "metadata": {},
   "outputs": [],
   "source": [
    "from mlflow.tracking import MlflowClient\n",
    "\n",
    "client = MlflowClient()\n",
    "experiment_id = client.create_experiment(\"Iris Classification Experiments\")"
   ]
  },
  {
   "cell_type": "code",
   "execution_count": 57,
   "id": "4ad1b25a-8b7c-4e3d-a080-6ed80f4b7903",
   "metadata": {},
   "outputs": [],
   "source": [
    "class TreeModel:\n",
    "    \"\"\"\n",
    "    DecisionTree classifier to predict trinary labels of flower dataset.\n",
    "    \"\"\"\n",
    "\n",
    "    def __init__(self, **model_params):\n",
    "        self._decision_tree = DecisionTreeClassifier(**model_params)\n",
    "        self._params = model_params\n",
    "        self.data = load_iris()\n",
    "        \n",
    "    @classmethod\n",
    "    def create_instance(cls, **model_params):\n",
    "        return cls(**model_params)\n",
    "    \n",
    "    @property\n",
    "    def model(self):\n",
    "        return self._decision_tree\n",
    "    \n",
    "    @property\n",
    "    def params(self):\n",
    "        return self._params\n",
    "    \n",
    "    def mlflow_run(self, run_name='Iris Classification Runs'):\n",
    "        with mlflow.start_run(run_name=run_name) as run:\n",
    "            run_id = run.info.run_uuid\n",
    "            experiment_id = run.info.experiment_id\n",
    "            \n",
    "            X, y = self.data.data, self.data.target\n",
    "            # y = label_binarize(y, classes=[0, 1, 2])\n",
    "            \n",
    "            X_train, X_test, y_train, y_test = \\\n",
    "                    train_test_split(X, y, test_size=0.3, random_state=3)\n",
    "            \n",
    "            self._decision_tree.fit(X_train, y_train)\n",
    "            y_pred = self._decision_tree.predict(X_test)\n",
    "            y_probs = self._decision_tree.predict_proba(X_test)\n",
    "            \n",
    "            mlflow.sklearn.log_model(self.model, \"decision-tree-classifier\")\n",
    "            mlflow.log_params(self.params)\n",
    "            \n",
    "            acc = accuracy_score(y_test, y_pred))\n",
    "            \n",
    "            mlflow.log_metric(\"accuracy_score\", acc)\n",
    "            mlflow.log_metric(\"max_depth_of_trained_tree\", self._decision_tree.tree_.max_depth)\n",
    "            \n",
    "            print(\"Accuracy Score =>\", acc)\n",
    "            print(\"Res max depth  =>\", self._decision_tree.tree_.max_depth)\n",
    "            return experiment_id, run_id"
   ]
  },
  {
   "cell_type": "code",
   "execution_count": 58,
   "id": "0b6825a5-b668-4d51-8335-8236d2f6ece5",
   "metadata": {},
   "outputs": [
    {
     "name": "stdout",
     "output_type": "stream",
     "text": [
      "Accuracy Score => 0.6888888888888889\n",
      "Precision      => 0.6888888888888889\n",
      "Res max depth  => 1\n",
      "MLflow Run completed with run_id 0 and experiment_id c6c6e7b6643b48de9bef60fa46accb6f\n",
      "<-><-><-><-><-><-><-><-><-><-><-><-><-><-><-><-><-><-><-><-><-><-><-><-><-><-><-><-><-><-><-><-><-><-><-><-><-><-><-><->\n",
      "Accuracy Score => 0.9333333333333333\n",
      "Precision      => 0.9333333333333333\n",
      "Res max depth  => 2\n",
      "MLflow Run completed with run_id 0 and experiment_id e2bc221f461b496fa3a0ff97c2c6f27f\n",
      "<-><-><-><-><-><-><-><-><-><-><-><-><-><-><-><-><-><-><-><-><-><-><-><-><-><-><-><-><-><-><-><-><-><-><-><-><-><-><-><->\n",
      "Accuracy Score => 0.9333333333333333\n",
      "Precision      => 0.9333333333333333\n",
      "Res max depth  => 3\n",
      "MLflow Run completed with run_id 0 and experiment_id 05112ce45dfa457da224b4ac93b0ea51\n",
      "<-><-><-><-><-><-><-><-><-><-><-><-><-><-><-><-><-><-><-><-><-><-><-><-><-><-><-><-><-><-><-><-><-><-><-><-><-><-><-><->\n"
     ]
    }
   ],
   "source": [
    "max_depths = [1, 2, 3]\n",
    "for n in max_depths:\n",
    "    params = {\"max_depth\": n, \"random_state\": 3}\n",
    "    dtc = TreeModel.create_instance(**params)\n",
    "    exp_id, run_id = dtc.mlflow_run()\n",
    "    print(f\"MLflow Run completed with run_id {exp_id} and experiment_id {run_id}\")\n",
    "    print(\"<->\" * 40)"
   ]
  },
  {
   "cell_type": "code",
   "execution_count": null,
   "id": "7d8d3010-ba95-4ff4-80f5-2f5ff5f98b58",
   "metadata": {},
   "outputs": [],
   "source": []
  }
 ],
 "metadata": {
  "kernelspec": {
   "display_name": "Python 3",
   "language": "python",
   "name": "python3"
  },
  "language_info": {
   "codemirror_mode": {
    "name": "ipython",
    "version": 3
   },
   "file_extension": ".py",
   "mimetype": "text/x-python",
   "name": "python",
   "nbconvert_exporter": "python",
   "pygments_lexer": "ipython3",
   "version": "3.9.2"
  }
 },
 "nbformat": 4,
 "nbformat_minor": 5
}
